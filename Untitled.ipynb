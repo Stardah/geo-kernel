{
 "cells": [
  {
   "cell_type": "code",
   "execution_count": 1,
   "metadata": {},
   "outputs": [
    {
     "data": {
      "text/html": [
       "<iframe width=\"300\" height=\"300\" srcdoc=\"<html><style>/* Full-width inputs */ input[type=text], input[type=password]{width: 100%; padding: 12px 20px; margin: 8px 0; display: inline-block; border: 1px solid #ccc; box-sizing: border-box;}/* Set a style for all buttons */ button{background-color: #4e91fc; color: white; padding: 14px 20px; margin: 8px 0; border: none; cursor: pointer; width: 100%;}/* Add a hover effect for buttons */ button:hover{opacity: 0.8;}</style> <div class='container'> <label for='uname'><b>Username</b></label> <input type='text' id='loginInput' placeholder='Enter Username' name='uname' required> <label for='psw'><b>Password</b></label> <input type='password' id='passwordInput' placeholder='Enter Password' name='psw' required> </div><button class='check'>Login</button> <div class='state'> Result: <span class='value'>?</span> </div><script type='text/javascript'> var url='ws://127.0.0.1:9090/'; var check=document.querySelector('.check'), value=document.querySelector('.value'), websocket=new WebSocket(url); check.onclick=function (event){var login=document.getElementById('loginInput').value; var password=document.getElementById('passwordInput').value; var token='[B@62342231'; websocket.send('login '+login+' '+password+' '+token);}; websocket.onmessage=function (event){value.textContent=event.data;}; </script> </html>\" frameborder=\"0\" allowfullscreen=\"\"></iframe>"
      ]
     },
     "execution_count": 1,
     "metadata": {},
     "output_type": "execute_result"
    }
   ],
   "source": [
    "login"
   ]
  },
  {
   "cell_type": "code",
   "execution_count": 3,
   "metadata": {},
   "outputs": [
    {
     "name": "stdout",
     "output_type": "stream",
     "text": [
      "Map myMap has been created"
     ]
    }
   ],
   "source": [
    "create map myMap 4 5 6"
   ]
  },
  {
   "cell_type": "code",
   "execution_count": 4,
   "metadata": {},
   "outputs": [
    {
     "data": {
      "text/html": [
       "<!DOCTYPE html><html>       <head>\n",
       "        <!-- Leaflet's CSS -->\n",
       "        <link rel=\"stylesheet\" href=\"https://unpkg.com/leaflet@1.4.0/dist/leaflet.css\"\n",
       "        integrity=\"sha512-puBpdR0798OZvTTbP4A8Ix/l+A4dHDD0DGqYW6RQ+9jxkRFclaxxQb/SJAWZfWAkuyeQUytO7+7N4QKrDh+drA==\"\n",
       "        crossorigin=\"\"/>\n",
       "        <!-- Leaflet JavaScript -->\n",
       "        <script src=\"https://unpkg.com/leaflet@1.4.0/dist/leaflet.js\"\n",
       "        integrity=\"sha512-QVftwZFqvtRNi0ZyCtsznlKSWOStnDORoefr1enyq5mVL4tmKB3S/EnC3rRJcxCPavG10IcrVGSmPh6Qw5lwrg==\"\n",
       "        crossorigin=\"\"></script>\n",
       "\n",
       "        <script>\n",
       "\t\thtml, body {\n",
       "\t\t\theight: 100%;\n",
       "\t\t\tmargin: 0;\n",
       "\t\t}\n",
       "\t\t#map {\n",
       "\t\t\twidth: 600px;\n",
       "\t\t\theight: 400px;\n",
       "\t\t}\n",
       "        </script>\n",
       "\n",
       "        <script type=\"text/javascript\" src=\"chrome-extension://aggiiclaiamajehmlfpkjmlbadmkledi/popup.js\" async=\"\"></script>\n",
       "        <script type=\"text/javascript\" src=\"chrome-extension://aggiiclaiamajehmlfpkjmlbadmkledi/tat_popup.js\" async=\"\"></script>\n",
       "    </head>    <body>\n",
       "        <!-- map div -->\n",
       "        <div id=\"mapid\" style=\"width: 600px; height: 400px; position: relative;\"></div>\n",
       "<script> \n",
       "            var mbAttr = 'Map data &copy; <a href=\"https://www.openstreetmap.org/\">OpenStreetMap</a> contributors, <a href=\"https://creativecommons.org/licenses/by-sa/2.0/\">CC-BY-SA</a>, Imagery © <a href=\"https://www.mapbox.com/\">Mapbox</a>';\n",
       "            var mbUrl = 'https://api.tiles.mapbox.com/v4/{id}/{z}/{x}/{y}.png?access_token=pk.eyJ1IjoiYWRyYXgiLCJhIjoiY2p1OTQ0dW1kMTV5bzN5bnpsemlpbTh3NSJ9.evyvRseaJS0WSTlgR38MXg';\n",
       "            var layer_map_id = 'mapbox.streets';var mymap = L.map('mapid', {center: [4.00, 5.00],zoom: 6,layers:[]});var baseMaps = {};var overlayMaps = {};\n",
       "var control = L.control.layers(baseMaps, overlayMaps);\n",
       "            control.addTo(mymap);        </script>\n",
       "    </body>\n",
       "</html>"
      ]
     },
     "execution_count": 4,
     "metadata": {},
     "output_type": "execute_result"
    }
   ],
   "source": [
    "show map myMap"
   ]
  },
  {
   "cell_type": "code",
   "execution_count": null,
   "metadata": {},
   "outputs": [],
   "source": []
  },
  {
   "cell_type": "code",
   "execution_count": null,
   "metadata": {},
   "outputs": [],
   "source": []
  },
  {
   "cell_type": "markdown",
   "metadata": {},
   "source": [
    "```html\n",
    "<h3> test</h3>.\n",
    "```"
   ]
  },
  {
   "cell_type": "markdown",
   "metadata": {},
   "source": [
    "```geo\n",
    "for i in\n",
    "```"
   ]
  },
  {
   "cell_type": "markdown",
   "metadata": {},
   "source": [
    "<html><h> Hello World </h></html>"
   ]
  }
 ],
 "metadata": {
  "kernelspec": {
   "display_name": "GEOcmd",
   "language": "geo",
   "name": "geokernel"
  },
  "language_info": {
   "codemirror_mode": "geo",
   "extension": ".geo",
   "mimetype": "text/x-geo",
   "name": "geo"
  }
 },
 "nbformat": 4,
 "nbformat_minor": 2
}
