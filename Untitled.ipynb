{
 "cells": [
  {
   "cell_type": "code",
   "execution_count": null,
   "metadata": {},
   "outputs": [],
   "source": []
  },
  {
   "cell_type": "code",
   "execution_count": null,
   "metadata": {},
   "outputs": [],
   "source": [
    "show map myMap"
   ]
  },
  {
   "cell_type": "code",
   "execution_count": null,
   "metadata": {},
   "outputs": [],
   "source": []
  },
  {
   "cell_type": "markdown",
   "metadata": {},
   "source": [
    "```html\n",
    "<h3> test</h3>.\n",
    "```"
   ]
  },
  {
   "cell_type": "markdown",
   "metadata": {},
   "source": [
    "```geo\n",
    "for i in\n",
    "```"
   ]
  },
  {
   "cell_type": "markdown",
   "metadata": {},
   "source": [
    "<html><h> Hello World </h></html>"
   ]
  }
 ],
 "metadata": {
  "kernelspec": {
   "display_name": "GEOcmd",
   "language": "geo",
   "name": "geokernel"
  },
  "language_info": {
   "codemirror_mode": "geo",
   "extension": ".geo",
   "mimetype": "text/x-geo",
   "name": "geo"
  }
 },
 "nbformat": 4,
 "nbformat_minor": 2
}
